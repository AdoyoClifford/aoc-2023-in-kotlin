{
 "cells": [
  {
   "cell_type": "code",
   "execution_count": 37,
   "metadata": {
    "collapsed": true,
    "ExecuteTime": {
     "end_time": "2023-12-06T14:28:04.454120645Z",
     "start_time": "2023-12-06T14:28:04.311703357Z"
    }
   },
   "outputs": [],
   "source": [
    "import java.io.File\n",
    "\n",
    "val input = File(\"Day06.txt\").readLines()"
   ]
  },
  {
   "cell_type": "code",
   "execution_count": 38,
   "outputs": [
    {
     "data": {
      "text/plain": "[Time:      7  15   30, Distance:  9  40  200]"
     },
     "execution_count": 38,
     "metadata": {},
     "output_type": "execute_result"
    }
   ],
   "source": [
    "input"
   ],
   "metadata": {
    "collapsed": false,
    "ExecuteTime": {
     "end_time": "2023-12-06T14:28:04.592639479Z",
     "start_time": "2023-12-06T14:28:04.432362618Z"
    }
   }
  },
  {
   "cell_type": "code",
   "execution_count": 39,
   "outputs": [],
   "source": [
    "fun Pair<Long, Long>.numberOfWaysToWin() = (1 until first).count{ \n",
    "    val timeRemaining = first - it\n",
    "    val speed = it\n",
    "    speed * timeRemaining > second\n",
    "}"
   ],
   "metadata": {
    "collapsed": false,
    "ExecuteTime": {
     "end_time": "2023-12-06T14:28:04.677802461Z",
     "start_time": "2023-12-06T14:28:04.512416032Z"
    }
   }
  },
  {
   "cell_type": "code",
   "execution_count": 40,
   "outputs": [],
   "source": [
    "val distance = input[0].substringAfter(\":\").split(' ').filter { it.isNotEmpty() }.map { it.toLong() }\n",
    "val time = input[1].substringAfter(\":\").split(' ').filter { it.isNotEmpty() }.map { it.toLong() }"
   ],
   "metadata": {
    "collapsed": false,
    "ExecuteTime": {
     "end_time": "2023-12-06T14:28:05.103136090Z",
     "start_time": "2023-12-06T14:28:04.669602043Z"
    }
   }
  },
  {
   "cell_type": "code",
   "execution_count": 43,
   "outputs": [],
   "source": [
    "val games = time.zip(distance)\n",
    "val part1 = games.fold(1) {cur, game ->\n",
    "    cur * game.numberOfWaysToWin()\n",
    "}\n"
   ],
   "metadata": {
    "collapsed": false,
    "ExecuteTime": {
     "end_time": "2023-12-06T14:28:51.693521288Z",
     "start_time": "2023-12-06T14:28:51.373661066Z"
    }
   }
  },
  {
   "cell_type": "code",
   "execution_count": 44,
   "outputs": [
    {
     "data": {
      "text/plain": "199"
     },
     "execution_count": 44,
     "metadata": {},
     "output_type": "execute_result"
    }
   ],
   "source": [
    "part1"
   ],
   "metadata": {
    "collapsed": false,
    "ExecuteTime": {
     "end_time": "2023-12-06T14:28:53.292297677Z",
     "start_time": "2023-12-06T14:28:53.221527791Z"
    }
   }
  }
 ],
 "metadata": {
  "kernelspec": {
   "display_name": "Kotlin",
   "language": "kotlin",
   "name": "kotlin"
  },
  "language_info": {
   "name": "kotlin",
   "version": "1.9.0",
   "mimetype": "text/x-kotlin",
   "file_extension": ".kt",
   "pygments_lexer": "kotlin",
   "codemirror_mode": "text/x-kotlin",
   "nbconvert_exporter": ""
  }
 },
 "nbformat": 4,
 "nbformat_minor": 0
}
